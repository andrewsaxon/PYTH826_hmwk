{
  "nbformat": 4,
  "nbformat_minor": 0,
  "metadata": {
    "colab": {
      "name": "Andrew_HMWK_000.ipynb",
      "version": "0.3.2",
      "provenance": [],
      "collapsed_sections": []
    },
    "kernelspec": {
      "name": "python3",
      "display_name": "Python 3"
    }
  },
  "cells": [
    {
      "cell_type": "markdown",
      "metadata": {
        "id": "t2YK7bmaHYpO",
        "colab_type": "text"
      },
      "source": [
        "#  BASIC DATA TYPES\n",
        "\n",
        "## BASICS\n",
        "\n",
        "### P1.PY\n",
        "\n",
        "\n"
      ]
    },
    {
      "cell_type": "code",
      "metadata": {
        "id": "u7UYtONlHYpQ",
        "colab_type": "code",
        "outputId": "79fdceca-850d-4277-8e45-35b82588ce8a",
        "colab": {
          "base_uri": "https://localhost:8080/",
          "height": 34
        }
      },
      "source": [
        "\"\"\"\n",
        "Placeholders\n",
        "\"\"\"\n",
        "\n",
        "# You're writing a program, and you don't know what your starting value for your 'initial' variable is yet. The program won't run if you leave it blank, but you don't want to forget you need it! Make a workaround.\n",
        "\n",
        "starting_string = 'hello'\n",
        "print(starting_string)"
      ],
      "execution_count": 4,
      "outputs": [
        {
          "output_type": "stream",
          "text": [
            "hello\n"
          ],
          "name": "stdout"
        }
      ]
    },
    {
      "cell_type": "markdown",
      "metadata": {
        "id": "uThYvAZgHYpT",
        "colab_type": "text"
      },
      "source": [
        "\n",
        "\n",
        "### P2.PY\n",
        "\n",
        "\n"
      ]
    },
    {
      "cell_type": "code",
      "metadata": {
        "id": "7MbMVyf0HYpU",
        "colab_type": "code",
        "outputId": "9112b94e-96df-45cf-c71f-861fc37d5ecf",
        "colab": {
          "base_uri": "https://localhost:8080/",
          "height": 51
        }
      },
      "source": [
        "\"\"\"\n",
        "Basic Variables\n",
        "\"\"\"\n",
        "\n",
        "# Create a variable that represents your favorite number, and add a note to remind yourself what this variable represents. Now print it out without re-typing the number.\n",
        "\n",
        "fav_num = 7\n",
        "# fav_num is your favorite number\n",
        "print(fav_num)\n",
        "\n",
        "# Create another variable that represents your favorite color, and do the same steps as above.\n",
        "\n",
        "fav_color = \"blue\"\n",
        "# fav_color is your favorite color\n",
        "print(fav_color)"
      ],
      "execution_count": 0,
      "outputs": [
        {
          "output_type": "stream",
          "text": [
            "7\n",
            "blue\n"
          ],
          "name": "stdout"
        }
      ]
    },
    {
      "cell_type": "markdown",
      "metadata": {
        "id": "XLVHPBpUHYpW",
        "colab_type": "text"
      },
      "source": [
        "\n",
        "\n",
        "### P3.PY\n",
        "\n",
        "\n"
      ]
    },
    {
      "cell_type": "code",
      "metadata": {
        "id": "zv2AM4S4HYpY",
        "colab_type": "code",
        "outputId": "a389c3a8-cec7-46da-e4c7-7685e6ff8aad",
        "colab": {
          "base_uri": "https://localhost:8080/",
          "height": 102
        }
      },
      "source": [
        "\"\"\"\n",
        "String Formatting\n",
        "\"\"\"\n",
        "\n",
        "# Create a variable that contains the first 4 lines of your favorite song. Add a comment that includes the song title and artist **each on their own line**! Now print out this variable.\n",
        "\n",
        "fav_song = \"\"\"\n",
        "That how it starts\n",
        "We go back to your house\n",
        "You check the charts\n",
        "And start to figure it out\"\"\"    #LCD Soundsystem, All my Friends\n",
        "\n",
        "print(fav_song)"
      ],
      "execution_count": 5,
      "outputs": [
        {
          "output_type": "stream",
          "text": [
            "\n",
            "That how it starts\n",
            "We go back to your house\n",
            "You check the charts\n",
            "And start to figure it out\n"
          ],
          "name": "stdout"
        }
      ]
    },
    {
      "cell_type": "markdown",
      "metadata": {
        "id": "0b54HTvUHYpb",
        "colab_type": "text"
      },
      "source": [
        "\n",
        "\n",
        "## TYPECASTING\n",
        "\n",
        "### P1.PY\n",
        "\n",
        "\n"
      ]
    },
    {
      "cell_type": "code",
      "metadata": {
        "id": "DRheu-z3HYpc",
        "colab_type": "code",
        "outputId": "22091951-a9dd-47a3-8624-b3abbf17fb73",
        "colab": {
          "base_uri": "https://localhost:8080/",
          "height": 85
        }
      },
      "source": [
        "\"\"\"\n",
        "Typcasting w. Integers & Floats\n",
        "\"\"\"\n",
        "\n",
        "# Convert these numbers into floats and back. Print out each result as well as its data type.\n",
        "\n",
        "five = 5\n",
        "zero = 0\n",
        "neg_8 = -8\n",
        "neg_22 = -22\n",
        "\n",
        "\n",
        "f_five = float(five) #converting the variable to float, reassigning to f_\n",
        "f_zero = float(zero)\n",
        "f_neg_8 = float(neg_8)\n",
        "f_neg_22 = float(neg_22)\n",
        "\n",
        "print(f_five,f_zero,f_neg_8,neg_22) #prints converted variables, floats\n",
        "\n",
        "print(type(f_five), type(f_zero), type(f_neg_8), type(f_neg_22)) #prints data type of converted variables f_\n",
        "\n",
        "i_five = int(f_five)  #converting the variables back to integer, reassigning to i_\n",
        "i_zero = int(f_zero)\n",
        "i_neg_8 = int(f_neg_8)\n",
        "i_neg_22 = int(f_neg_22)\n",
        "\n",
        "print(i_five, i_zero, i_neg_8, i_neg_22)\n",
        "\n",
        "print(type(i_five), type(i_zero), type(i_neg_8), type(i_neg_22)) #prints data type of converted variables i_\n"
      ],
      "execution_count": 2,
      "outputs": [
        {
          "output_type": "stream",
          "text": [
            "5.0 0.0 -8.0 -22\n",
            "<class 'float'> <class 'float'> <class 'float'> <class 'float'>\n",
            "5 0 -8 -22\n",
            "<class 'int'> <class 'int'> <class 'int'> <class 'int'>\n"
          ],
          "name": "stdout"
        }
      ]
    },
    {
      "cell_type": "markdown",
      "metadata": {
        "id": "CSrWVyegHYpe",
        "colab_type": "text"
      },
      "source": [
        "\n",
        "\n",
        "### P2.PY\n",
        "\n",
        "\n"
      ]
    },
    {
      "cell_type": "code",
      "metadata": {
        "id": "-taLZi3qHYpf",
        "colab_type": "code",
        "colab": {
          "base_uri": "https://localhost:8080/",
          "height": 85
        },
        "outputId": "338cd1be-016a-4bf6-d424-af795c53350a"
      },
      "source": [
        "\"\"\"\n",
        "Typcasting w. Strings\n",
        "\"\"\"\n",
        "\n",
        "# Convert these variables into strings and then back to their original data types. Print out each result as well as its data type. What do you notice about the last one?\n",
        "\n",
        "five = 5\n",
        "zero = 0\n",
        "neg_8 = -8\n",
        "T = True\n",
        "F = False\n",
        "\n",
        "\n",
        "\n",
        "str_five = str(five)\n",
        "str_zero = str(zero)\n",
        "str_neg_8 = str(neg_8)\n",
        "str_T = str(T)\n",
        "str_F = str(F)\n",
        "\n",
        "# Converting variables to strings\n",
        "\n",
        "print(str_five, str_zero, str_neg_8, str_T, str_F)\n",
        "print(type(str_five), type(str_zero), type(str_neg_8), type(str_F), type(str_T))\n",
        "\n",
        "# Printing new vairables and data types\n",
        "\n",
        "org_five = int(five)\n",
        "org_zero = int(zero)\n",
        "org_neg_8 = int(neg_8)\n",
        "org_T = bool(T)\n",
        "org_F = bool(F)\n",
        "\n",
        "# Converting strings back to original data types\n",
        "\n",
        "print(org_five, org_zero, org_neg_8, T, F)\n",
        "print(type(org_five), type(org_zero), type(org_neg_8), type(org_F), type(org_T))\n",
        "\n",
        "# Printing new variables and data types\n",
        "\n",
        "\n"
      ],
      "execution_count": 6,
      "outputs": [
        {
          "output_type": "stream",
          "text": [
            "5 0 -8 True False\n",
            "<class 'str'> <class 'str'> <class 'str'> <class 'str'> <class 'str'>\n",
            "5 0 -8 True False\n",
            "<class 'int'> <class 'int'> <class 'int'> <class 'bool'> <class 'bool'>\n"
          ],
          "name": "stdout"
        }
      ]
    },
    {
      "cell_type": "markdown",
      "metadata": {
        "id": "bFp6XvKVHYpi",
        "colab_type": "text"
      },
      "source": [
        "\n",
        "\n",
        "### P3.PY\n",
        "\n",
        "\n"
      ]
    },
    {
      "cell_type": "code",
      "metadata": {
        "id": "YOSPcXquHYps",
        "colab_type": "code",
        "colab": {
          "base_uri": "https://localhost:8080/",
          "height": 170
        },
        "outputId": "fbbf2059-be55-40cd-900b-0da243eb25fe"
      },
      "source": [
        "\"\"\"\n",
        "Booleans I - Typecasting w. Numbers\n",
        "\"\"\"\n",
        "\n",
        "# A) Use typecasting to turn these variables into boolean values. Print the result and the datatype of the result. \n",
        "\n",
        "one = 1\n",
        "zero = 0\n",
        "\n",
        "a_one = bool(one)\n",
        "a_zero = bool(zero)\n",
        "\n",
        "print (a_one,a_zero)\n",
        "print (type(a_one), type(a_zero))\n",
        "\n",
        "\n",
        "# B) Use typecasting to turn the resultant variables from part A into floats. Print the result and the datatype of the result.\n",
        "\n",
        "b_one = float(a_one)\n",
        "b_zero = float(a_zero)\n",
        "\n",
        "print(b_one, b_zero)\n",
        "print(type(b_one), type(b_zero))\n",
        "\n",
        "\n",
        "# C) Use typecasting to turn the resultant variables from part B back into booleans. Print the result and the datatype of the result.\n",
        "\n",
        "c_one = bool(b_one)\n",
        "c_zero = bool(b_zero)\n",
        "\n",
        "print(b_one,b_zero)\n",
        "print(type(c_one), type(c_zero))\n",
        "\n",
        "\n",
        "# D) Use typecasting to turn the resultant variables from part C into integers. Print the result and the datatype of the result.\n",
        "\n",
        "d_one = int(c_one)\n",
        "d_zero = int(c_zero)\n",
        "\n",
        "print(d_one, d_zero)\n",
        "print(type(d_one), type(d_zero))\n",
        "\n",
        "\n",
        "# E) Use typecasting to turn the variable below into a boolean value. Print the result and the datatype of the result. \n",
        "\n",
        "ten = 10\n",
        "\n",
        "str_ten = str(ten)\n",
        "print(str_ten, type(str_ten))\n",
        "\n",
        "\n"
      ],
      "execution_count": 7,
      "outputs": [
        {
          "output_type": "stream",
          "text": [
            "True False\n",
            "<class 'bool'> <class 'bool'>\n",
            "1.0 0.0\n",
            "<class 'float'> <class 'float'>\n",
            "1.0 0.0\n",
            "<class 'bool'> <class 'bool'>\n",
            "1 0\n",
            "<class 'int'> <class 'int'>\n",
            "10 <class 'str'>\n"
          ],
          "name": "stdout"
        }
      ]
    },
    {
      "cell_type": "markdown",
      "metadata": {
        "id": "-1SEiC_xHYpu",
        "colab_type": "text"
      },
      "source": [
        "\n",
        "\n",
        "### P4.PY\n",
        "\n",
        "\n"
      ]
    },
    {
      "cell_type": "code",
      "metadata": {
        "id": "Gcxg7oiCHYpv",
        "colab_type": "code",
        "colab": {
          "base_uri": "https://localhost:8080/",
          "height": 119
        },
        "outputId": "8046063d-8fde-48a0-9aee-30509a1de2ac"
      },
      "source": [
        "\"\"\"\n",
        "Booleans II - Typecasting w. Strings\n",
        "\"\"\"\n",
        "\n",
        "# A) Use typecasting to turn these variables into boolean values. Print the result and the datatype of the result. \n",
        "\n",
        "one = 1\n",
        "zero = 0\n",
        "bool_true = True\n",
        "bool_false = False\n",
        "\n",
        "\n",
        "one = bool(one)\n",
        "zero = bool(zero)\n",
        "bool_true = int(bool_true)\n",
        "bool_false = int(bool_false)\n",
        "\n",
        "\n",
        "print(one,zero, bool_true, bool_false)\n",
        "print(type(one), type(zero), type(bool_true), type(bool_false))\n",
        "\n",
        "\n",
        "# B) Use typecasting to turn the latest values for variables 'one' and 'zero' back into integers. Print the result and the datatype of the result.\n",
        "\n",
        "one = int(one)\n",
        "zero = int(zero)\n",
        "\n",
        "print(one, zero)\n",
        "print(type(one), type(zero))\n",
        "\n",
        "      \n",
        "# C) Use typecasting to turn the latest values for variables 'bool_true' and 'bool_false' back into boolean values. Print the result and the datatype of the result.\n",
        "\n",
        "\n",
        "bool_true = bool(bool_true)\n",
        "bool_false = bool(bool_false)\n",
        "\n",
        "print(bool_true, bool_false)\n",
        "print(type(bool_true), type(bool_false))\n"
      ],
      "execution_count": 8,
      "outputs": [
        {
          "output_type": "stream",
          "text": [
            "True False 1 0\n",
            "<class 'bool'> <class 'bool'> <class 'int'> <class 'int'>\n",
            "1 0\n",
            "<class 'int'> <class 'int'>\n",
            "True False\n",
            "<class 'bool'> <class 'bool'>\n"
          ],
          "name": "stdout"
        }
      ]
    },
    {
      "cell_type": "markdown",
      "metadata": {
        "id": "YR-pcBLaHYpy",
        "colab_type": "text"
      },
      "source": [
        "\n",
        "\n",
        "## OPERATORS\n",
        "\n",
        "### P1.PY\n",
        "\n",
        "\n"
      ]
    },
    {
      "cell_type": "code",
      "metadata": {
        "id": "huUQt5vwHYp0",
        "colab_type": "code",
        "colab": {
          "base_uri": "https://localhost:8080/",
          "height": 51
        },
        "outputId": "ef7e23d1-4b37-4405-d9ba-d55d7b34fa97"
      },
      "source": [
        "\"\"\"\n",
        "Integer & Float Operators\n",
        "\"\"\"\n",
        "\n",
        "# Complete the specified math operations. Do the next operation on the result from the previous operation.\n",
        "\n",
        "orig_var = 100\n",
        "\n",
        "# Add 50\n",
        "\n",
        "num1 = orig_var + 50\n",
        "\n",
        "# Subtract 90\n",
        "\n",
        "num2 = num1 - 90\n",
        "\n",
        "# Multiply 10\n",
        "\n",
        "num3 = num2 * 10\n",
        "\n",
        "# Divide 150\n",
        "\n",
        "num4 = num3 / 150\n",
        "\n",
        "# Modulus 3\n",
        "\n",
        "num5 = num4 % 3\n",
        "print(num5) #1.0\n",
        "\n",
        "\n",
        "# or using assignment operators\n",
        "\n",
        "orig_var = 100\n",
        "\n",
        "orig_var += 50 #150\n",
        "\n",
        "orig_var -= 90 #60\n",
        "\n",
        "orig_var *= 10 #600\n",
        "\n",
        "orig_var /= 150 # 4.0\n",
        "\n",
        "orig_var %= 3 # 1.0\n",
        "\n",
        "print(orig_var)\n"
      ],
      "execution_count": 9,
      "outputs": [
        {
          "output_type": "stream",
          "text": [
            "1.0\n",
            "1.0\n"
          ],
          "name": "stdout"
        }
      ]
    },
    {
      "cell_type": "markdown",
      "metadata": {
        "id": "aUAyUMEAHYp2",
        "colab_type": "text"
      },
      "source": [
        "\n",
        "\n",
        "### P2.PY\n",
        "\n",
        "\n"
      ]
    },
    {
      "cell_type": "code",
      "metadata": {
        "id": "Kn-lxM9PHYp4",
        "colab_type": "code",
        "colab": {
          "base_uri": "https://localhost:8080/",
          "height": 34
        },
        "outputId": "45a1de3c-0b85-4d18-e840-654690cbdce9"
      },
      "source": [
        "\"\"\"\n",
        "String Operators\n",
        "\"\"\"\n",
        "\n",
        "# Create two variables, each of which is half of a compound sentence. Do NOT add any punctuation up front. Add the two variables together, and print the result.\n",
        "## Example compound sentence: \"I'll go to the beach today, and I'll go snorkeling.\" \n",
        "\n",
        "\n",
        "var1 = 'I am going to the movies and '\n",
        "var2 = 'I am going to get some popcorn.'\n",
        "\n",
        "tonight = var1 + var2\n",
        "print(tonight)"
      ],
      "execution_count": 10,
      "outputs": [
        {
          "output_type": "stream",
          "text": [
            "I am going to the movies and I am going to get some popcorn.\n"
          ],
          "name": "stdout"
        }
      ]
    },
    {
      "cell_type": "markdown",
      "metadata": {
        "id": "5nIbUH2THYp7",
        "colab_type": "text"
      },
      "source": [
        "\n",
        "\n",
        "### P3.PY\n",
        "\n",
        "\n"
      ]
    },
    {
      "cell_type": "code",
      "metadata": {
        "id": "r714olmoHYp8",
        "colab_type": "code",
        "colab": {
          "base_uri": "https://localhost:8080/",
          "height": 249
        },
        "outputId": "957bdd62-f8af-4223-b934-cbc8af3b76fa"
      },
      "source": [
        "\"\"\"\n",
        "Addition I - Numbers & Strings\n",
        "\"\"\"\n",
        "\n",
        "# Add the below sets of variables together.\n",
        "\n",
        "# A)\n",
        "a = 0\n",
        "b = 2\n",
        "\n",
        "ab = a + b\n",
        "print(ab) #2\n",
        "\n",
        "\n",
        "# B)\n",
        "c = '0'\n",
        "d = '2'\n",
        "\n",
        "cd = c + d\n",
        "print(cd) #02\n",
        "\n",
        "\n",
        "# C)\n",
        "e = \"0\"\n",
        "f = 2\n",
        "\n",
        "ef = e + f\n",
        "print (ef) #error, cannot add dfferent data types with an operator"
      ],
      "execution_count": 11,
      "outputs": [
        {
          "output_type": "stream",
          "text": [
            "2\n",
            "02\n"
          ],
          "name": "stdout"
        },
        {
          "output_type": "error",
          "ename": "TypeError",
          "evalue": "ignored",
          "traceback": [
            "\u001b[0;31m---------------------------------------------------------------------------\u001b[0m",
            "\u001b[0;31mTypeError\u001b[0m                                 Traceback (most recent call last)",
            "\u001b[0;32m<ipython-input-11-d01c49cba899>\u001b[0m in \u001b[0;36m<module>\u001b[0;34m()\u001b[0m\n\u001b[1;32m     25\u001b[0m \u001b[0mf\u001b[0m \u001b[0;34m=\u001b[0m \u001b[0;36m2\u001b[0m\u001b[0;34m\u001b[0m\u001b[0;34m\u001b[0m\u001b[0m\n\u001b[1;32m     26\u001b[0m \u001b[0;34m\u001b[0m\u001b[0m\n\u001b[0;32m---> 27\u001b[0;31m \u001b[0mef\u001b[0m \u001b[0;34m=\u001b[0m \u001b[0me\u001b[0m \u001b[0;34m+\u001b[0m \u001b[0mf\u001b[0m\u001b[0;34m\u001b[0m\u001b[0;34m\u001b[0m\u001b[0m\n\u001b[0m\u001b[1;32m     28\u001b[0m \u001b[0mprint\u001b[0m \u001b[0;34m(\u001b[0m\u001b[0mef\u001b[0m\u001b[0;34m)\u001b[0m \u001b[0;31m#error, cannot add dfferent data types with an operator\u001b[0m\u001b[0;34m\u001b[0m\u001b[0;34m\u001b[0m\u001b[0m\n",
            "\u001b[0;31mTypeError\u001b[0m: must be str, not int"
          ]
        }
      ]
    },
    {
      "cell_type": "markdown",
      "metadata": {
        "id": "CyBWgJbDHYqA",
        "colab_type": "text"
      },
      "source": [
        "\n",
        "\n",
        "### P4.PY\n",
        "\n",
        "\n"
      ]
    },
    {
      "cell_type": "code",
      "metadata": {
        "id": "EgZI84YjHYqB",
        "colab_type": "code",
        "colab": {
          "base_uri": "https://localhost:8080/",
          "height": 68
        },
        "outputId": "2ec0b64e-b4fb-452c-82d1-b0ac1cb5b287"
      },
      "source": [
        "\"\"\"\n",
        "Addition II - Booleans\n",
        "\"\"\"\n",
        "\n",
        "# Add the below sets of variables together.\n",
        "\n",
        "# A)\n",
        "a = True\n",
        "b = True\n",
        "\n",
        "ab = a + b\n",
        "print(ab) #2\n",
        "\n",
        "# B)\n",
        "c = False\n",
        "d = False\n",
        "\n",
        "\n",
        "cd = c + d\n",
        "print(cd) #0\n",
        "\n",
        "\n",
        "# C)\n",
        "e = True\n",
        "f = False\n",
        "\n",
        "ef = e + f\n",
        "print (ef) #1"
      ],
      "execution_count": 12,
      "outputs": [
        {
          "output_type": "stream",
          "text": [
            "2\n",
            "0\n",
            "1\n"
          ],
          "name": "stdout"
        }
      ]
    },
    {
      "cell_type": "markdown",
      "metadata": {
        "id": "FHJJn0onHYqD",
        "colab_type": "text"
      },
      "source": [
        "\n"
      ]
    }
  ]
}