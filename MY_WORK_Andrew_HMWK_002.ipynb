{
  "nbformat": 4,
  "nbformat_minor": 0,
  "metadata": {
    "colab": {
      "name": "MY WORK - Andrew_HMWK_002.ipynb",
      "provenance": [],
      "collapsed_sections": [],
      "include_colab_link": true
    },
    "kernelspec": {
      "name": "python3",
      "display_name": "Python 3"
    }
  },
  "cells": [
    {
      "cell_type": "markdown",
      "metadata": {
        "id": "view-in-github",
        "colab_type": "text"
      },
      "source": [
        "<a href=\"https://colab.research.google.com/github/andrewsaxon/PYTH826_hmwk/blob/master/MY_WORK_Andrew_HMWK_002.ipynb\" target=\"_parent\"><img src=\"https://colab.research.google.com/assets/colab-badge.svg\" alt=\"Open In Colab\"/></a>"
      ]
    },
    {
      "cell_type": "markdown",
      "metadata": {
        "id": "f8EUoB1Bfz6t",
        "colab_type": "text"
      },
      "source": [
        "<a href=\"https://colab.research.google.com/github/mottaquikarim/PYTH2/blob/master/src/PSETS/nb/hw2.ipynb\" target=\"_parent\"><img src=\"https://colab.research.google.com/assets/colab-badge.svg\" alt=\"Open In Colab\"/></a>"
      ]
    },
    {
      "cell_type": "markdown",
      "metadata": {
        "id": "RbsCyt4hfz60",
        "colab_type": "text"
      },
      "source": [
        "#  LISTS\n",
        "\n",
        "## LIST_MANIPULATION\n",
        "\n",
        "### P1.PY Phone Numbers\n"
      ]
    },
    {
      "cell_type": "code",
      "metadata": {
        "id": "b09hNbNCfz63",
        "colab_type": "code",
        "outputId": "68bfec50-2ebc-479c-93d8-ff29554fdb38",
        "colab": {
          "base_uri": "https://localhost:8080/",
          "height": 68
        }
      },
      "source": [
        "\"\"\"\n",
        "Phone Numbers\n",
        "\"\"\"\n",
        "\n",
        "# Parse this phone number so that a computer can process\n",
        "# it. (Hint: It can't include any non-numeric\n",
        "# characters.)\n",
        "\n",
        "\n",
        "\n",
        "grades = [100, 99.5, 65, 54.1, 19]\n",
        "print (grades)\n",
        "\n",
        "\n",
        "cell = '1.192.168.0143'\n",
        "#cell_nums = \n",
        "\n",
        "\n",
        "cell_num = cell.split(\".\")\n",
        "print(cell_num) #now need to convert to int\n",
        "print((cell_num[0]), (cell_num[1]), (cell_num[2]), (cell_num[3]))\n",
        "\n",
        "\n",
        "\n",
        "#print(cell_num[1])\n",
        "#print(cell_num[2])\n",
        "\n",
        "#print(cell_num[int(type([3]))\n",
        "\n",
        "#print(cell_num)\n",
        "#print(cell)\n",
        "#print(cell[2:5])\n"
      ],
      "execution_count": 0,
      "outputs": [
        {
          "output_type": "stream",
          "text": [
            "[100, 99.5, 65, 54.1, 19]\n",
            "['1', '192', '168', '0143']\n",
            "1 192 168 0143\n"
          ],
          "name": "stdout"
        }
      ]
    },
    {
      "cell_type": "markdown",
      "metadata": {
        "id": "JET3ZaP1fz7H",
        "colab_type": "text"
      },
      "source": [
        "\n",
        "\n",
        "### P2.PY Basic Math Ops\n",
        "\n",
        "\n"
      ]
    },
    {
      "cell_type": "code",
      "metadata": {
        "id": "jkfOfaztfz7M",
        "colab_type": "code",
        "outputId": "e0aa46a8-006b-4ae2-d5ce-d7bfdaa7a57e",
        "colab": {
          "base_uri": "https://localhost:8080/",
          "height": 102
        }
      },
      "source": [
        "\"\"\"\n",
        "Basic Math Ops\n",
        "\"\"\"\n",
        "\n",
        "# Given the list below, assign the correct values to the variables below.\n",
        "\t# my_sum = \n",
        "\t# my_min = \n",
        "\t# my_max = \n",
        "\t# my_range = \n",
        "\t# my_mean =\n",
        "\n",
        "nums = [2, 19, 20, 12, 6, 24, 8, 30, 28, 25]\n",
        "\n",
        "my_sum = sum(nums)\n",
        "my_min = min(nums)\n",
        "my_max = max(nums)\n",
        "my_mean = my_sum/len(nums)\n",
        "\n",
        "print(f'my_sum: {my_sum}')\n",
        "print(f'my_min: {my_min}')\n",
        "print(f'my_max: {my_max}')\n",
        "print(f'my_mean: {my_mean}')\n",
        "print(f'my_range: {my_min} to {my_max}')\n"
      ],
      "execution_count": 0,
      "outputs": [
        {
          "output_type": "stream",
          "text": [
            "my_sum: 174\n",
            "my_min: 2\n",
            "my_max: 30\n",
            "my_mean: 17.4\n",
            "my_range: 2 to 30\n"
          ],
          "name": "stdout"
        }
      ]
    },
    {
      "cell_type": "code",
      "metadata": {
        "colab_type": "code",
        "outputId": "87dea7a9-6a15-4f24-a0f9-bd290ceaa57c",
        "id": "HZxDpWUPOWvj",
        "colab": {
          "base_uri": "https://localhost:8080/",
          "height": 102
        }
      },
      "source": [
        "\"\"\"\n",
        "Merge Lists with Duplicates\n",
        "\"\"\"\n",
        "\n",
        "# Use the two lists below to solve this problem. Print out the result from each section as you go along.\n",
        "\n",
        "list1, list2 = [2, 8, 6], [10, 4, 12]\n",
        "\n",
        "\n",
        "# A) Add another instance of each item in list1 to list1 again and assign the results to list3. \n",
        "\n",
        "#FROM OFFICE HOURS\n",
        "\n",
        "list3 = list(list1)\n",
        "list3.extend(list1)\n",
        "print(list3)\n",
        "\n",
        "\n",
        "# B) Combine the two given lists and assign them to list4.\n",
        "\n",
        "list4 = list(list1)\n",
        "list4.extend(list2)\n",
        "print(list4)\n",
        "\n",
        "# C) Replace the first 3 items in list 3 with the numbers 13, 16, 9.\n",
        "list3[0:3] = 13,6,9\n",
        "print(list3)\n",
        "# D) Merge list3 and list4 to create a list containing no duplicates and store this in list5.\n",
        "\n",
        "list5 = list(list3)\n",
        "list5.extend(list4)\n",
        "print(list5)\n",
        "list5 = list(set(list5))\n",
        "print(list5)\n",
        "\n"
      ],
      "execution_count": 8,
      "outputs": [
        {
          "output_type": "stream",
          "text": [
            "[2, 8, 6, 2, 8, 6]\n",
            "[2, 8, 6, 10, 4, 12]\n",
            "[13, 6, 9, 2, 8, 6]\n",
            "[13, 6, 9, 2, 8, 6, 2, 8, 6, 10, 4, 12]\n",
            "[2, 4, 6, 8, 9, 10, 12, 13]\n"
          ],
          "name": "stdout"
        }
      ]
    },
    {
      "cell_type": "markdown",
      "metadata": {
        "id": "iLN1SppKOURx",
        "colab_type": "text"
      },
      "source": [
        ""
      ]
    },
    {
      "cell_type": "code",
      "metadata": {
        "id": "eDvefaarfz7X",
        "colab_type": "code",
        "outputId": "991b2206-b247-43ef-914b-73d8e0b23aac",
        "colab": {
          "base_uri": "https://localhost:8080/",
          "height": 85
        }
      },
      "source": [
        "\"\"\"\n",
        "Merge Lists with Duplicates\n",
        "\"\"\"\n",
        "\n",
        "# Use the two lists below to solve this problem. Print out the result from each section as you go along.\n",
        "\n",
        "list1, list2 = [2, 8, 6], [10, 4, 12]\n",
        "\n",
        "# A) Add another instance of each item in list1 to list1 again and assign the results to list3.\n",
        "\n",
        "list3 = list1 + list1\n",
        "print(list3)\n",
        "\n",
        "# B) Combine the two given lists and assign them to list4.\n",
        "\n",
        "list4 = list1 + list2\n",
        "print(list4)\n",
        "\n",
        "# C) Replace the first 3 items in list 3 with the numbers 13, 16, 9.\n",
        "list3[0:2] = 13,16,9\n",
        "print(list3)  \n",
        "\n",
        "# D) Merge list3 and list4 to create a list containing no duplicates and store this in list5.\n",
        "list5 = list3 + list4\n",
        "setoflist5=set(list5)\n",
        "list_of_set_list5=list(setoflist5)\n",
        "print(list_of_set_list5)\n",
        "\n",
        "\n",
        "# Take a look at your printed statements to see the evolution of your lists with each step of this problem.\n"
      ],
      "execution_count": 0,
      "outputs": [
        {
          "output_type": "stream",
          "text": [
            "[2, 8, 6, 2, 8, 6]\n",
            "[2, 8, 6, 10, 4, 12]\n",
            "[13, 16, 9, 6, 2, 8, 6]\n",
            "[2, 4, 6, 8, 9, 10, 12, 13, 16]\n"
          ],
          "name": "stdout"
        }
      ]
    },
    {
      "cell_type": "markdown",
      "metadata": {
        "id": "puo0WzaPfz7U",
        "colab_type": "text"
      },
      "source": [
        "\n",
        "\n",
        "### P3.PY Merge Lists with Duplicates\n",
        "\n"
      ]
    },
    {
      "cell_type": "markdown",
      "metadata": {
        "id": "vxV_bniHfz7f",
        "colab_type": "text"
      },
      "source": [
        "\n",
        "\n",
        "### P4.PY Spotify Playlists - Sorting\n"
      ]
    },
    {
      "cell_type": "code",
      "metadata": {
        "id": "RsN5dQcHfz7h",
        "colab_type": "code",
        "outputId": "eb547f7d-3f3d-410f-96c8-67ad465f865b",
        "colab": {
          "base_uri": "https://localhost:8080/",
          "height": 71
        }
      },
      "source": [
        "\"\"\"\n",
        "Spotify Playlists - Sorting\n",
        "\"\"\"\n",
        "\n",
        "# You work for Spotify and are creating a feature for users to alphabetize their playlists by song title. Below is a list of titles from a sample playlist.\n",
        "\n",
        "playlist_titles = ['Tiny Dancer', 'At Last', 'Fortunate Son', \n",
        "'Hey Jude', 'Isn\\'t She Lovely', 'Just the Way You Are', 'I\\'m Yours',\n",
        "'Vienna', 'Roxanne', 'Dancing in the Moonlight']\n",
        "\n",
        "# Alphabetize these songs and print the result.\n",
        "\n",
        "\n",
        "playlist_titles.sort()\n",
        "print(playlist_titles)\n",
        "\n",
        "\n",
        "# Now do the reverse.\n",
        "\n",
        "playlist_titles.sort(reverse = True)\n",
        "print(playlist_titles)\n"
      ],
      "execution_count": 9,
      "outputs": [
        {
          "output_type": "stream",
          "text": [
            "['At Last', 'Dancing in the Moonlight', 'Fortunate Son', 'Hey Jude', \"I'm Yours\", \"Isn't She Lovely\", 'Just the Way You Are', 'Roxanne', 'Tiny Dancer', 'Vienna']\n",
            "['Vienna', 'Tiny Dancer', 'Roxanne', 'Just the Way You Are', \"Isn't She Lovely\", \"I'm Yours\", 'Hey Jude', 'Fortunate Son', 'Dancing in the Moonlight', 'At Last']\n"
          ],
          "name": "stdout"
        }
      ]
    },
    {
      "cell_type": "markdown",
      "metadata": {
        "id": "J5c7dHqqfz7q",
        "colab_type": "text"
      },
      "source": [
        "\n",
        "\n",
        "### P5.PY Cool Runnings!\n"
      ]
    },
    {
      "cell_type": "code",
      "metadata": {
        "id": "8CexAe3qfz7t",
        "colab_type": "code",
        "outputId": "1971aafe-faa8-4e2f-9370-cb516bb37297",
        "colab": {
          "base_uri": "https://localhost:8080/",
          "height": 102
        }
      },
      "source": [
        "\"\"\"\n",
        "Cool Runnings!\n",
        "\"\"\"\n",
        "\n",
        "# Here's a quote from the movie 'Cool Runnings'. :)\n",
        "\n",
        "# Replace the word bobsled with \"YOLO\" and print the resultant list as 4 sentences (i.e. NOT a list), each on a new line.\n",
        "\n",
        "cool_runnings = [\n",
        "\t'Feel', 'the', 'rhythm.',\n",
        "\t'Feel', 'the', 'rhyme.',\n",
        "\t'Get', 'on', 'up.',\n",
        "\t'It\\'s', 'bobsled', 'time!'\n",
        "]\n",
        "\n",
        "cool_runnings[10] = 'YOLO'\n",
        "\n",
        "print(cool_runnings)\n",
        "print(cool_runnings[:3])\n",
        "print(cool_runnings[3:6])\n",
        "print(cool_runnings[6:9])\n",
        "print(cool_runnings[9:12])\n",
        "\n"
      ],
      "execution_count": 10,
      "outputs": [
        {
          "output_type": "stream",
          "text": [
            "['Feel', 'the', 'rhythm.', 'Feel', 'the', 'rhyme.', 'Get', 'on', 'up.', \"It's\", 'YOLO', 'time!']\n",
            "['Feel', 'the', 'rhythm.']\n",
            "['Feel', 'the', 'rhyme.']\n",
            "['Get', 'on', 'up.']\n",
            "[\"It's\", 'YOLO', 'time!']\n"
          ],
          "name": "stdout"
        }
      ]
    },
    {
      "cell_type": "markdown",
      "metadata": {
        "id": "Ja0X3Puafz70",
        "colab_type": "text"
      },
      "source": [
        "\n",
        "\n",
        "## LIST_CHALLENGES\n",
        "\n",
        "### P1.PY CHALLENGE - Extensions\n"
      ]
    },
    {
      "cell_type": "code",
      "metadata": {
        "id": "NLu7I0Fsfz72",
        "colab_type": "code",
        "outputId": "85e5bf6c-5fe3-48b6-e1f3-448fbe85649c",
        "colab": {
          "base_uri": "https://localhost:8080/",
          "height": 215
        }
      },
      "source": [
        "\"\"\"\n",
        "CHALLENGE - Extensions\n",
        "\"\"\"\n",
        "\n",
        "# ** Challenge** Add each element of the tuple1 to list1 *individually* and print the result.\n",
        "\n",
        "list1 = [6, 12, 9, 4, 10, 1]\n",
        "tuple1 = [(15,3), (6,2), (1, 8)]\n",
        "list2 = extend\n",
        "print(list1)\n"
      ],
      "execution_count": 11,
      "outputs": [
        {
          "output_type": "error",
          "ename": "NameError",
          "evalue": "ignored",
          "traceback": [
            "\u001b[0;31m---------------------------------------------------------------------------\u001b[0m",
            "\u001b[0;31mNameError\u001b[0m                                 Traceback (most recent call last)",
            "\u001b[0;32m<ipython-input-11-7db21db5f270>\u001b[0m in \u001b[0;36m<module>\u001b[0;34m()\u001b[0m\n\u001b[1;32m      7\u001b[0m \u001b[0mlist1\u001b[0m \u001b[0;34m=\u001b[0m \u001b[0;34m[\u001b[0m\u001b[0;36m6\u001b[0m\u001b[0;34m,\u001b[0m \u001b[0;36m12\u001b[0m\u001b[0;34m,\u001b[0m \u001b[0;36m9\u001b[0m\u001b[0;34m,\u001b[0m \u001b[0;36m4\u001b[0m\u001b[0;34m,\u001b[0m \u001b[0;36m10\u001b[0m\u001b[0;34m,\u001b[0m \u001b[0;36m1\u001b[0m\u001b[0;34m]\u001b[0m\u001b[0;34m\u001b[0m\u001b[0;34m\u001b[0m\u001b[0m\n\u001b[1;32m      8\u001b[0m \u001b[0mtuple1\u001b[0m \u001b[0;34m=\u001b[0m \u001b[0;34m[\u001b[0m\u001b[0;34m(\u001b[0m\u001b[0;36m15\u001b[0m\u001b[0;34m,\u001b[0m\u001b[0;36m3\u001b[0m\u001b[0;34m)\u001b[0m\u001b[0;34m,\u001b[0m \u001b[0;34m(\u001b[0m\u001b[0;36m6\u001b[0m\u001b[0;34m,\u001b[0m\u001b[0;36m2\u001b[0m\u001b[0;34m)\u001b[0m\u001b[0;34m,\u001b[0m \u001b[0;34m(\u001b[0m\u001b[0;36m1\u001b[0m\u001b[0;34m,\u001b[0m \u001b[0;36m8\u001b[0m\u001b[0;34m)\u001b[0m\u001b[0;34m]\u001b[0m\u001b[0;34m\u001b[0m\u001b[0;34m\u001b[0m\u001b[0m\n\u001b[0;32m----> 9\u001b[0;31m \u001b[0mlist2\u001b[0m \u001b[0;34m=\u001b[0m \u001b[0mextend\u001b[0m\u001b[0;34m\u001b[0m\u001b[0;34m\u001b[0m\u001b[0m\n\u001b[0m\u001b[1;32m     10\u001b[0m \u001b[0mprint\u001b[0m\u001b[0;34m(\u001b[0m\u001b[0mlist1\u001b[0m\u001b[0;34m)\u001b[0m\u001b[0;34m\u001b[0m\u001b[0;34m\u001b[0m\u001b[0m\n",
            "\u001b[0;31mNameError\u001b[0m: name 'extend' is not defined"
          ]
        }
      ]
    },
    {
      "cell_type": "markdown",
      "metadata": {
        "id": "BKxiNAnufz79",
        "colab_type": "text"
      },
      "source": [
        "\n",
        "\n",
        "### P2.PY CHALLENGE - Core Statistics Calculations\n"
      ]
    },
    {
      "cell_type": "code",
      "metadata": {
        "id": "P8L93i8Mfz7_",
        "colab_type": "code",
        "outputId": "f4be62e4-71de-462d-8480-7e1695d07b0f",
        "colab": {
          "base_uri": "https://localhost:8080/",
          "height": 68
        }
      },
      "source": [
        "\"\"\"\n",
        "CHALLENGE - Core Statistics Calculations\n",
        "\"\"\"\n",
        "\n",
        "# Given the sample below, find the mean, median, mode, variance, and standard deviation of this sample. Print them out separately, but in the same format as before.\n",
        "\t# my_median = \n",
        "\t# my_mode = \n",
        "\t# my_variance = \n",
        "\t# my_sd = \n",
        "\n",
        "sample = [6, 19, 20, 12, 6, 24, 8, 30, 28, 25]\n",
        "sample.sort() \n",
        "\n",
        "#median\n",
        "print(sample)\n",
        "print(len(sample) / 2 + 1)\n",
        "\n",
        "\n",
        "\n",
        "#print(my_median)\n",
        "\n",
        "# Once you finish, print out each value **on its own line** in this format: \"median = \" etc.\n"
      ],
      "execution_count": 0,
      "outputs": [
        {
          "output_type": "stream",
          "text": [
            "[6, 6, 8, 12, 19, 20, 24, 25, 28, 30]\n",
            "6.0\n"
          ],
          "name": "stdout"
        },
        {
          "output_type": "execute_result",
          "data": {
            "text/plain": [
              "<function print>"
            ]
          },
          "metadata": {
            "tags": []
          },
          "execution_count": 34
        }
      ]
    },
    {
      "cell_type": "markdown",
      "metadata": {
        "id": "ikQwtINZfz8G",
        "colab_type": "text"
      },
      "source": [
        "\n",
        "\n",
        "#  DICTS\n",
        "\n",
        "## DICT_OPS\n",
        "\n",
        "### P1.PY Basic Dict Concepts\n"
      ]
    },
    {
      "cell_type": "code",
      "metadata": {
        "id": "PZU8X4Hgfz8I",
        "colab_type": "code",
        "outputId": "47e60dff-fc58-449e-93ab-f4b0d940a613",
        "colab": {
          "base_uri": "https://localhost:8080/",
          "height": 119
        }
      },
      "source": [
        "\"\"\"\n",
        "Basic Dict Concepts\n",
        "\"\"\"\n",
        "\n",
        "# A) Declare an empty dict as d1.\n",
        "d1 = {}\n",
        "print(d1)\n",
        "\n",
        "# B) Create a dict called d2 containing the first and last names below:\n",
        "# Anthony Paollelo, Ping Qiao, Enrique Alvarez, Arjun Dhir \n",
        "\n",
        "d2 = {\n",
        "    'Anthony': 'Paollelo',\n",
        "    'Ping': 'Qiao',\n",
        "    'Enrique': 'Alvarez',\n",
        "    'Arjun': 'Dhir'\n",
        "}\n",
        "print(d2)\n",
        "\n",
        "\n",
        "# C) Add Allison Zhang person to d2.\n",
        "d2.update({'Allison':'Zhang'})\n",
        "print(d2)\n",
        "\n",
        "#state_capitals['CA'] = 'Sacramento' code from notes replaced to get answer\n",
        "#OR use update method\n",
        "#d2.update('Allison': 'Zhang')\n",
        "#print(d2)\n",
        "\n",
        "\n",
        "# D) How many people are now in d2? Print out all their *first* names in the vars below.\n",
        "\n",
        "#num_people = print(d2.count)\n",
        "\n",
        "first_names = list(d2.keys())\n",
        "print(first_names)\n",
        "\n",
        "\n",
        "# E) Delete a random person from d2 and print his/her name in the var below.\n",
        "x = d2.popitem()\n",
        "print(x)\n",
        "\n",
        "\n",
        "# F) Re-add the name you deleted to the end of d2.\n",
        "d2.update({'Allison':'Zhang'})\n",
        "print(d2)\n",
        "\n",
        "\n"
      ],
      "execution_count": 44,
      "outputs": [
        {
          "output_type": "stream",
          "text": [
            "{}\n",
            "{'Anthony': 'Paollelo', 'Ping': 'Qiao', 'Enrique': 'Alvarez', 'Arjun': 'Dhir'}\n",
            "{'Anthony': 'Paollelo', 'Ping': 'Qiao', 'Enrique': 'Alvarez', 'Arjun': 'Dhir', 'Allison': 'Zhang'}\n",
            "['Anthony', 'Ping', 'Enrique', 'Arjun', 'Allison']\n",
            "('Allison', 'Zhang')\n",
            "{'Anthony': 'Paollelo', 'Ping': 'Qiao', 'Enrique': 'Alvarez', 'Arjun': 'Dhir', 'Allison': 'Zhang'}\n"
          ],
          "name": "stdout"
        }
      ]
    },
    {
      "cell_type": "markdown",
      "metadata": {
        "id": "Y_c8mSyDfz8P",
        "colab_type": "text"
      },
      "source": [
        "\n",
        "\n",
        "### P2.PY Merging Dicts\n",
        "\n",
        "\n"
      ]
    },
    {
      "cell_type": "code",
      "metadata": {
        "id": "WktnHVGIfz8R",
        "colab_type": "code",
        "colab": {
          "base_uri": "https://localhost:8080/",
          "height": 34
        },
        "outputId": "1d53a911-a9e9-4389-82dd-60dbef86d5ee"
      },
      "source": [
        "\"\"\"\n",
        "Merging Dicts\n",
        "\"\"\"\n",
        "\n",
        "# Merge these two dicts without creating a new one.\n",
        "\n",
        "d1 = {'a': 100, 'b': 200}\n",
        "d2 = {'c': 300, 'd': 400, 'e': 500}\n",
        "\n",
        "d1.update(d2)\n",
        "print(d1)"
      ],
      "execution_count": 51,
      "outputs": [
        {
          "output_type": "stream",
          "text": [
            "{'a': 100, 'b': 200, 'c': 300, 'd': 400, 'e': 500}\n"
          ],
          "name": "stdout"
        }
      ]
    },
    {
      "cell_type": "markdown",
      "metadata": {
        "id": "veE_lp3xfz8V",
        "colab_type": "text"
      },
      "source": [
        "\n",
        "\n",
        "### P3.PY Math with Girl Scout Cookies\n",
        "\n",
        "\n"
      ]
    },
    {
      "cell_type": "code",
      "metadata": {
        "id": "taXAfiRGfz8X",
        "colab_type": "code",
        "colab": {
          "base_uri": "https://localhost:8080/",
          "height": 85
        },
        "outputId": "55976f36-be31-447c-ac8b-de0a199f7e6a"
      },
      "source": [
        "\"\"\"\n",
        "Math with Girl Scout Cookies\n",
        "\"\"\"\n",
        "\n",
        "# Print out the number of boxes of girl scout cookies that each girl in the troop sold in the below format:\n",
        "\t# Wendy: _____\n",
        "\t# Connie: _____\n",
        "\t# Francesca: _____\n",
        "\n",
        "Wendy = {'tagalongs': 5, 'thin mints': 12, 'samoas': 8}\n",
        "Connie = {'tagalongs': 10, 'thin mints': 4, 'samoas': 12}\n",
        "Francesca = {'tagalongs': 18, 'thin mints': 14, 'samoas': 10}\n",
        "\n",
        "\n",
        "salesC = sum(list(Connie.values()))\n",
        "salesF = sum(list(Francesca.values()))\n",
        "salesW = sum(list(Wendy.values()))\n",
        "\n",
        "\n",
        "print(salesW)\n",
        "\n",
        "\n",
        "# For each type of girl scout cookie, print out the total number of boxes sold in the below format:\n",
        "\t\n",
        "  \n",
        "total_tagalongs = Wendy['tagalongs'] + Connie['tagalongs'] + Francesca['tagalongs']\n",
        "print(total_tagalongs)\n",
        "\n",
        "total_thin_mints = Wendy['thin mints'] + Connie['thin mints'] + Francesca['thin mints']\n",
        "print(total_thin_mints)\n",
        "\n",
        "\n",
        "total_samoas = Wendy['samoas'] + Connie['samoas'] + Francesca['samoas']\n",
        "print(total_samoas)\n",
        "\n",
        "#tagalong_total: Wendy['tagalongs'] + Connie['tagalongs'] + Francesco['tagalongs']\n",
        "#print (tagalong_total)\n",
        "\t# thin mints: _____\n",
        "\t# samoas: _____\n",
        "\n",
        "### total_tagalongs = \n",
        "### total_thinmints = \n",
        "### total_samoas = \n",
        "\n",
        "\n",
        "# For each type of girl scout cookie, print out the average number of boxes sold in the below format:\n",
        "\t# tagalongs: _____\n",
        "\t# thin mints: _____\n",
        "\t# samoas: _____\n",
        "\n",
        "### avg_tagalongs = \n",
        "### avg_thinmints = \n",
        "### avg_samoas = \n",
        "\n",
        "\n",
        "\n",
        "\n",
        "# Print out total the number of boxes of cookies the girls sold collectively as follows:\n",
        "\t# \"This year we sold ______ boxes!\"\n",
        "\n",
        "### boxes_sold = "
      ],
      "execution_count": 68,
      "outputs": [
        {
          "output_type": "stream",
          "text": [
            "25\n",
            "33\n",
            "30\n",
            "30\n"
          ],
          "name": "stdout"
        }
      ]
    },
    {
      "cell_type": "markdown",
      "metadata": {
        "id": "t2DDt83jfz8k",
        "colab_type": "text"
      },
      "source": [
        "\n",
        "\n",
        "### P4.PY Inverting Keys & Values\n",
        "\n",
        "\n"
      ]
    },
    {
      "cell_type": "code",
      "metadata": {
        "id": "nhBa7k4Ofz8m",
        "colab_type": "code",
        "colab": {}
      },
      "source": [
        "\"\"\"\n",
        "Inverting Keys & Values\n",
        "\"\"\"\n",
        "\n",
        "# Invert dict1 - make the current keys into values and the current values into keys.\n",
        "\n",
        "\n",
        "dict1 = { \"k1\" : \"v1\", \"k2\" : \"v2\", \"k3\" : \"v1\" }\n",
        "\n"
      ],
      "execution_count": 0,
      "outputs": []
    },
    {
      "cell_type": "markdown",
      "metadata": {
        "id": "cby8RLAvfz8s",
        "colab_type": "text"
      },
      "source": [
        "\n",
        "\n",
        "### P5.PY Lists to Dicts\n",
        "\n",
        "\n"
      ]
    },
    {
      "cell_type": "code",
      "metadata": {
        "id": "7cqIFfzjfz8u",
        "colab_type": "code",
        "colab": {}
      },
      "source": [
        "\"\"\"\n",
        "Lists to Dicts\n",
        "\"\"\"\n",
        "\n",
        "# Turn these two lists into a dict called grades.\n",
        "\n",
        "names = ['Taq', 'Zola', 'Valerie', 'Valerie']\n",
        "scores = [[98, 89, 92, 94], [86, 45, 98, 100], [100, 100, 100, 100], [76, 79, 80, 82]]\n",
        "\n",
        "### grades = "
      ],
      "execution_count": 0,
      "outputs": []
    },
    {
      "cell_type": "markdown",
      "metadata": {
        "id": "k5ysrJA8fz8z",
        "colab_type": "text"
      },
      "source": [
        "\n",
        "\n",
        "## SEARCH_VALIDATION\n",
        "\n",
        "### P1.PY Login Credentials\n",
        "\n",
        "\n"
      ]
    },
    {
      "cell_type": "code",
      "metadata": {
        "id": "oqLk6Hu6fz81",
        "colab_type": "code",
        "colab": {}
      },
      "source": [
        "\"\"\"\n",
        "Login Credentials\n",
        "\"\"\"\n",
        "\n",
        "# Imagine you work for a movie streaming service. You're in charge of safeguarding user privacy by ensuring the login feature remains secure. For the sake of example only, below is the dict of user login info. Normally, you wouldn't have access to see this unencrypted of course!\n",
        "\n",
        "users = {\n",
        "\t'person@email.com': 'PassWord',\n",
        "\t'someone@email.com': 'hiitsme',\n",
        "\t'me@email.com': 'myPassword',\n",
        "\t'anyone@email.com': 'IMawesome',\n",
        "\t'guy@email.com': 'pa$$wordz'\n",
        "\t# etc\n",
        "}\n",
        "\n",
        "\n",
        "# A user enters the below login info (email and password) for your app. Search your database of user logins to see if this account exists and if the password matches what you have on file. If the login credentials are correct, print \"Successful login!\". Otherwise, print \"The login info you entered does not match any of our records.\"\n",
        "\n",
        "current_user = { 'me@email.com': 'myPassword' }\n",
        "\n"
      ],
      "execution_count": 0,
      "outputs": []
    },
    {
      "cell_type": "markdown",
      "metadata": {
        "id": "4Pb73zQ9fz85",
        "colab_type": "text"
      },
      "source": [
        "\n",
        "\n",
        "## COUNTERS_CHALLENGE\n",
        "\n",
        "### P1.PY CHALLENGE - Word Frequency\n",
        "\n",
        "\n"
      ]
    },
    {
      "cell_type": "code",
      "metadata": {
        "id": "GS1CJZa3fz87",
        "colab_type": "code",
        "colab": {}
      },
      "source": [
        "\"\"\"\n",
        "CHALLENGE - Word Frequency\n",
        "\"\"\"\n",
        "\n",
        "# Print out the number of words in this movie quote. Find and print out the most common word in the quote and how many times it was used.\n",
        "### Hint: You do not need a loop for this. Look up the Counter docs in python3.\n",
        "\n",
        "from collections import Counter\n",
        "\n",
        "princess_bride = [\n",
        "'Hello', 'my', 'name', 'is', 'Inigo', 'Montoya',\n",
        "'You', 'killed', 'my', 'father',\n",
        "'Prepare', 'to', 'die'\n",
        "]\n",
        "\n",
        "### fave_word = \n",
        "\n",
        "# p.s. You might use this to help analyze the most common topic in comments or reviews from your users to help understand the best places to improve you product."
      ],
      "execution_count": 0,
      "outputs": []
    },
    {
      "cell_type": "markdown",
      "metadata": {
        "id": "H5wJ4QKffz9A",
        "colab_type": "text"
      },
      "source": [
        "\n",
        "\n",
        "### P2.PY CHALLENGE - Summing Dict Values\n",
        "\n",
        "\n"
      ]
    },
    {
      "cell_type": "code",
      "metadata": {
        "id": "4WphJedxfz9B",
        "colab_type": "code",
        "colab": {
          "base_uri": "https://localhost:8080/",
          "height": 232
        },
        "outputId": "57b991dc-c297-4bce-b07f-a5e1f74f43c8"
      },
      "source": [
        "\"\"\"\n",
        "CHALLENGE - Summing Dict Values\n",
        "\"\"\"\n",
        "\n",
        "# Two Kindergarten teachers poll their classes for what fruit they want to eat for snacktime tomorrow. Only one of them is going shopping, so she needs to know how many of each fruit she needs to buy in total. Tally these up and assign them to the \"shopping_list\" dict.\n",
        "\n",
        "poll1 = {'apples': 8, 'bananas': 12}\n",
        "poll2 = {'apples': 6, 'bananas': 6, 'clementines': 8}\n",
        "\n",
        "shopping_list = poll1.append(poll2)\n",
        "print(shopping_list)\n",
        "\n",
        "# + {poll2}\n",
        "#print(shopping_list)\n",
        "\n"
      ],
      "execution_count": 53,
      "outputs": [
        {
          "output_type": "error",
          "ename": "AttributeError",
          "evalue": "ignored",
          "traceback": [
            "\u001b[0;31m---------------------------------------------------------------------------\u001b[0m",
            "\u001b[0;31mAttributeError\u001b[0m                            Traceback (most recent call last)",
            "\u001b[0;32m<ipython-input-53-d92812f61cae>\u001b[0m in \u001b[0;36m<module>\u001b[0;34m()\u001b[0m\n\u001b[1;32m      8\u001b[0m \u001b[0mpoll2\u001b[0m \u001b[0;34m=\u001b[0m \u001b[0;34m{\u001b[0m\u001b[0;34m'apples'\u001b[0m\u001b[0;34m:\u001b[0m \u001b[0;36m6\u001b[0m\u001b[0;34m,\u001b[0m \u001b[0;34m'bananas'\u001b[0m\u001b[0;34m:\u001b[0m \u001b[0;36m6\u001b[0m\u001b[0;34m,\u001b[0m \u001b[0;34m'clementines'\u001b[0m\u001b[0;34m:\u001b[0m \u001b[0;36m8\u001b[0m\u001b[0;34m}\u001b[0m\u001b[0;34m\u001b[0m\u001b[0;34m\u001b[0m\u001b[0m\n\u001b[1;32m      9\u001b[0m \u001b[0;34m\u001b[0m\u001b[0m\n\u001b[0;32m---> 10\u001b[0;31m \u001b[0mshopping_list\u001b[0m \u001b[0;34m=\u001b[0m \u001b[0mpoll1\u001b[0m\u001b[0;34m.\u001b[0m\u001b[0mappend\u001b[0m\u001b[0;34m(\u001b[0m\u001b[0mpoll2\u001b[0m\u001b[0;34m)\u001b[0m\u001b[0;34m\u001b[0m\u001b[0;34m\u001b[0m\u001b[0m\n\u001b[0m\u001b[1;32m     11\u001b[0m \u001b[0mprint\u001b[0m\u001b[0;34m(\u001b[0m\u001b[0mshopping_list\u001b[0m\u001b[0;34m)\u001b[0m\u001b[0;34m\u001b[0m\u001b[0;34m\u001b[0m\u001b[0m\n\u001b[1;32m     12\u001b[0m \u001b[0;34m\u001b[0m\u001b[0m\n",
            "\u001b[0;31mAttributeError\u001b[0m: 'dict' object has no attribute 'append'"
          ]
        }
      ]
    },
    {
      "cell_type": "markdown",
      "metadata": {
        "id": "jKOa_OFpfz9F",
        "colab_type": "text"
      },
      "source": [
        "\n"
      ]
    },
    {
      "cell_type": "code",
      "metadata": {
        "id": "xSwNLRj5RFL_",
        "colab_type": "code",
        "outputId": "1c1595de-80be-4dcb-b2af-4d472aa01cef",
        "colab": {
          "base_uri": "https://localhost:8080/",
          "height": 51
        }
      },
      "source": [
        "listOfMarks=[8,7,6,7,8,8,7,6,7,8,9]\n",
        "print(\"List of Makrs:\",listOfMarks)\n",
        "setOfMarks=set(listOfMarks)\n",
        "print(\"Set of marks:\",setOfMarks)"
      ],
      "execution_count": 0,
      "outputs": [
        {
          "output_type": "stream",
          "text": [
            "List of Makrs: [8, 7, 6, 7, 8, 8, 7, 6, 7, 8, 9]\n",
            "Set of marks: {8, 9, 6, 7}\n"
          ],
          "name": "stdout"
        }
      ]
    }
  ]
}