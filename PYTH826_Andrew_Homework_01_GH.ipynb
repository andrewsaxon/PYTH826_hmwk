{
  "nbformat": 4,
  "nbformat_minor": 0,
  "metadata": {
    "colab": {
      "name": "PYTH826_Andrew_Homework_01_GH.ipynb",
      "version": "0.3.2",
      "provenance": [],
      "collapsed_sections": []
    },
    "kernelspec": {
      "name": "python3",
      "display_name": "Python 3"
    }
  },
  "cells": [
    {
      "cell_type": "markdown",
      "metadata": {
        "id": "TY0gkVKdFZhY",
        "colab_type": "text"
      },
      "source": [
        "#  BASIC DATA TYPES\n",
        "\n",
        "## BASICS\n",
        "\n",
        "### P1.PY\n",
        "\n",
        "\n"
      ]
    },
    {
      "cell_type": "code",
      "metadata": {
        "id": "DaxK2QxwFZhZ",
        "colab_type": "code",
        "outputId": "b11123df-38ca-47bd-d168-846e6c0faed3",
        "colab": {
          "base_uri": "https://localhost:8080/",
          "height": 34
        }
      },
      "source": [
        "\"\"\"\n",
        "Placeholders\n",
        "\"\"\"\n",
        "\n",
        "# You're writing a program, and you don't know what your starting value for your 'initial' variable is yet. The program won't run if you leave it blank, but you don't want to forget you need it! Make a workaround.\n",
        "\n",
        "starting_string = 'hello'\n",
        "\n",
        "print(starting_string)"
      ],
      "execution_count": 0,
      "outputs": [
        {
          "output_type": "stream",
          "text": [
            "hello\n"
          ],
          "name": "stdout"
        }
      ]
    },
    {
      "cell_type": "markdown",
      "metadata": {
        "id": "FVRhtsvBFZhc",
        "colab_type": "text"
      },
      "source": [
        "\n",
        "\n",
        "### P2.PY\n",
        "\n",
        "\n"
      ]
    },
    {
      "cell_type": "code",
      "metadata": {
        "id": "bSlLAgfpFZhc",
        "colab_type": "code",
        "outputId": "2a3b088f-771b-48df-d381-469b39b9db0e",
        "colab": {
          "base_uri": "https://localhost:8080/",
          "height": 51
        }
      },
      "source": [
        "\"\"\"\n",
        "Basic Variables\n",
        "\"\"\"\n",
        "\n",
        "# Create a variable that represents your favorite number, and add a note to remind yourself what this variable represents. Now print it out without re-typing the number.\n",
        "\n",
        "\n",
        "\n",
        "# Create another variable that represents your favorite color, and do the same steps as above.\n",
        "\n",
        "fav_num = 7\n",
        "# fav_num is your favorite number\n",
        "print(fav_num)\n",
        "\n",
        "fav_color = \"blue\"\n",
        "# fav_color is your favorite color\n",
        "print(fav_color)\n"
      ],
      "execution_count": 0,
      "outputs": [
        {
          "output_type": "stream",
          "text": [
            "7\n",
            "blue\n"
          ],
          "name": "stdout"
        }
      ]
    },
    {
      "cell_type": "markdown",
      "metadata": {
        "id": "1BofyI6gFZhf",
        "colab_type": "text"
      },
      "source": [
        "\n",
        "\n",
        "### P3.PY\n",
        "\n",
        "\n"
      ]
    },
    {
      "cell_type": "code",
      "metadata": {
        "id": "9420WD3pFZhg",
        "colab_type": "code",
        "outputId": "c532dbef-46e5-4859-cd5e-f5a1deeb5468",
        "colab": {
          "base_uri": "https://localhost:8080/",
          "height": 101
        }
      },
      "source": [
        "\"\"\"\n",
        "String Formatting\n",
        "\"\"\"\n",
        "\n",
        "# Create a variable that contains the first 4 lines of your favorite song. Add a comment that includes the song title and artist **each on their own line**! Now print out this variable.\n",
        "\n",
        "\n",
        "fav_song = \"\"\"\n",
        "That how it starts\n",
        "We go back to your house\n",
        "You check the charts\n",
        "And start to figure it out\"\"\"    #LCD Soundsystem, All my Friends\n",
        "\n",
        "print(fav_song)\n"
      ],
      "execution_count": 0,
      "outputs": [
        {
          "output_type": "stream",
          "text": [
            "\n",
            "That how it starts\n",
            "We go back to your house\n",
            "You check the charts\n",
            "And start to figure it out\n"
          ],
          "name": "stdout"
        }
      ]
    },
    {
      "cell_type": "code",
      "metadata": {
        "id": "j_q0QwcoTuMb",
        "colab_type": "code",
        "colab": {}
      },
      "source": [
        ""
      ],
      "execution_count": 0,
      "outputs": []
    },
    {
      "cell_type": "code",
      "metadata": {
        "id": "MCp6QYHcTugJ",
        "colab_type": "code",
        "colab": {}
      },
      "source": [
        ""
      ],
      "execution_count": 0,
      "outputs": []
    },
    {
      "cell_type": "code",
      "metadata": {
        "id": "cmaL--0xTup5",
        "colab_type": "code",
        "colab": {}
      },
      "source": [
        ""
      ],
      "execution_count": 0,
      "outputs": []
    },
    {
      "cell_type": "code",
      "metadata": {
        "id": "A8mHlYIoTvJo",
        "colab_type": "code",
        "colab": {}
      },
      "source": [
        ""
      ],
      "execution_count": 0,
      "outputs": []
    },
    {
      "cell_type": "code",
      "metadata": {
        "id": "_Jyp72H9Tvqo",
        "colab_type": "code",
        "colab": {}
      },
      "source": [
        ""
      ],
      "execution_count": 0,
      "outputs": []
    },
    {
      "cell_type": "markdown",
      "metadata": {
        "id": "5497BWnJFZhi",
        "colab_type": "text"
      },
      "source": [
        "\n",
        "\n",
        "## TYPECASTING\n",
        "\n",
        "### P1.PY\n",
        "\n",
        "\n"
      ]
    },
    {
      "cell_type": "code",
      "metadata": {
        "id": "3uN4lbvJFZhj",
        "colab_type": "code",
        "outputId": "c5a7b252-2569-4a8a-8158-dfdcfa4d20d5",
        "colab": {
          "base_uri": "https://localhost:8080/",
          "height": 286
        }
      },
      "source": [
        "\"\"\"\n",
        "Typcasting w. Integers & Floats\n",
        "\"\"\"\n",
        "\n",
        "# Convert these numbers into floats and back. Print out each result as well as its data type.\n",
        "\n",
        "five = 5\n",
        "zero = 0\n",
        "neg_8 = -8\n",
        "neg_22 = -22\n",
        "\n",
        "\n",
        "float_five = float(five) #converts the variable to float, redefines\n",
        "print(float_five) #prints converted variable \n",
        "print(type(float_five)) #prints converted variable data type\n",
        "\n",
        "float_five = int(float_five) #converts data type back to integer\n",
        "print(float_five) \n",
        "print(type(float_five)) # prints data type\n",
        "\n",
        "\n",
        "zero = float(zero)\n",
        "print(zero)\n",
        "print(type(zero))\n",
        "zero = int(zero)\n",
        "print(zero)\n",
        "print(type(zero))\n",
        "\n",
        "neg_8 = float(neg_8)\n",
        "print(neg_8)\n",
        "print(type(neg_8))\n",
        "neg_8 = int(neg_8)\n",
        "print(neg_8)\n",
        "print(type(neg_8))\n",
        "\n",
        "neg_22 = float(neg_22)\n",
        "print(neg_22)\n",
        "print(type(neg_22))\n",
        "neg_22 = int(neg_22)\n",
        "print(neg_22)\n",
        "print(type(neg_22))\n",
        "\n"
      ],
      "execution_count": 0,
      "outputs": [
        {
          "output_type": "stream",
          "text": [
            "5.0\n",
            "<class 'float'>\n",
            "5\n",
            "<class 'int'>\n",
            "0.0\n",
            "<class 'float'>\n",
            "0\n",
            "<class 'int'>\n",
            "-8.0\n",
            "<class 'float'>\n",
            "-8\n",
            "<class 'int'>\n",
            "-22.0\n",
            "<class 'float'>\n",
            "-22\n",
            "<class 'int'>\n"
          ],
          "name": "stdout"
        }
      ]
    },
    {
      "cell_type": "markdown",
      "metadata": {
        "id": "-sSeSaeDFZhl",
        "colab_type": "text"
      },
      "source": [
        "\n",
        "\n",
        "### P2.PY\n",
        "\n",
        "\n"
      ]
    },
    {
      "cell_type": "code",
      "metadata": {
        "id": "oO9dcaO3FZhl",
        "colab_type": "code",
        "outputId": "ed54e569-df1d-4235-a121-596eeb014c51",
        "colab": {
          "base_uri": "https://localhost:8080/",
          "height": 218
        }
      },
      "source": [
        "\"\"\"\n",
        "Typcasting w. Strings\n",
        "\"\"\"\n",
        "\n",
        "# Convert these variables into strings and then back to their original data types. Print out each result as well as its data type. What do you notice about the last one?\n",
        "\n",
        "five = 5\n",
        "zero = 0\n",
        "neg_8 = -8\n",
        "T = True\n",
        "F = False\n",
        "\n",
        "\n",
        "five=str(five)\n",
        "print(five)\n",
        "print(type(five))\n",
        "\n",
        "\n",
        "five = int(five) \n",
        "print(five) \n",
        "print(type(five)) \n",
        "\n",
        "\n",
        "\n",
        "\n",
        "zero = str(zero) #converts to string\n",
        "print(zero) #prints variable\n",
        "print(type(zero)) #prints variable data type\n",
        "\n",
        "zero = int(zero)\n",
        "print(zero)\n",
        "print(type(zero))\n",
        "\n",
        "\n",
        "neg_8 = str(neg_8)\n",
        "print(neg_8)\n",
        "print(type(neg_8))\n",
        "\n",
        "\n",
        "neg_8 = int(neg_8)\n",
        "print(neg_8)\n",
        "print(type(neg_8))\n",
        "\n",
        "\n",
        "\n",
        "\n",
        "\n",
        "\n"
      ],
      "execution_count": 0,
      "outputs": [
        {
          "output_type": "stream",
          "text": [
            "5\n",
            "<class 'str'>\n",
            "5\n",
            "<class 'int'>\n",
            "0\n",
            "<class 'str'>\n",
            "0\n",
            "<class 'int'>\n",
            "-8\n",
            "<class 'str'>\n",
            "-8\n",
            "<class 'int'>\n"
          ],
          "name": "stdout"
        }
      ]
    },
    {
      "cell_type": "markdown",
      "metadata": {
        "id": "WfPUEpDzFZhn",
        "colab_type": "text"
      },
      "source": [
        "\n",
        "\n",
        "### P3.PY\n",
        "\n",
        "\n"
      ]
    },
    {
      "cell_type": "code",
      "metadata": {
        "id": "qelXnF2qFZho",
        "colab_type": "code",
        "outputId": "006b5cde-d3e8-48b3-dabb-71426593ce5e",
        "colab": {
          "base_uri": "https://localhost:8080/",
          "height": 319
        }
      },
      "source": [
        "\"\"\"\n",
        "Booleans I - Typecasting w. Numbers\n",
        "\"\"\"\n",
        "\n",
        "# A) Use typecasting to turn these variables into boolean values. Print the result and the datatype of the result. \n",
        "\n",
        "one = 1\n",
        "zero = 0\n",
        "\n",
        "\n",
        "one = bool(one) #converts the variable\n",
        "print(one)\n",
        "print(type(one))\n",
        "\n",
        "zero = bool(zero)\n",
        "print(zero)\n",
        "print(type(zero))\n",
        "\n",
        "\n",
        "\n",
        "# B) Use typecasting to turn the resultant variables from part A into floats. Print the result and the datatype of the result.\n",
        "one = float(one)\n",
        "print(one)\n",
        "print(type(one))\n",
        "\n",
        "zero = float(zero)\n",
        "print(zero)\n",
        "print(type(zero))\n",
        "\n",
        "\n",
        "# C) Use typecasting to turn the resultant variables from part B back into booleans. Print the result and the datatype of the result.\n",
        "\n",
        "\n",
        "one = bool(one)\n",
        "print(one)\n",
        "print(type(one))\n",
        "\n",
        "\n",
        "zero=bool(zero)\n",
        "print(zero)\n",
        "print(type(zero))\n",
        "\n",
        "# C) Use typecasting to turn the resultant variables from part C into integers. Print the result and the datatype of the result.\n",
        "\n",
        "one=int(one)\n",
        "print(one)\n",
        "print(type(one))\n",
        "\n",
        "zero=int(zero)\n",
        "print(zero)\n",
        "print(type(zero))\n",
        "\n",
        "\n",
        "# E) Use typecasting to turn the variable below into a boolean value. Print the result and the datatype of the result. \n",
        "\n",
        "ten = 10\n",
        "\n",
        "ten=bool(ten)\n",
        "print(ten)\n",
        "print(type(ten))\n",
        "\n"
      ],
      "execution_count": 0,
      "outputs": [
        {
          "output_type": "stream",
          "text": [
            "True\n",
            "<class 'bool'>\n",
            "False\n",
            "<class 'bool'>\n",
            "1.0\n",
            "<class 'float'>\n",
            "0.0\n",
            "<class 'float'>\n",
            "True\n",
            "<class 'bool'>\n",
            "False\n",
            "<class 'bool'>\n",
            "1\n",
            "<class 'int'>\n",
            "0\n",
            "<class 'int'>\n",
            "True\n",
            "<class 'bool'>\n"
          ],
          "name": "stdout"
        }
      ]
    },
    {
      "cell_type": "markdown",
      "metadata": {
        "id": "H79FQj3fFZhq",
        "colab_type": "text"
      },
      "source": [
        "\n",
        "\n",
        "### P4.PY\n",
        "\n",
        "\n"
      ]
    },
    {
      "cell_type": "code",
      "metadata": {
        "id": "UGfC4cK-FZhr",
        "colab_type": "code",
        "outputId": "f8386176-f27e-4647-8d64-6e77db252b5d",
        "colab": {
          "base_uri": "https://localhost:8080/",
          "height": 151
        }
      },
      "source": [
        "\"\"\"\n",
        "Booleans II - Typecasting w. Strings\n",
        "\"\"\"\n",
        "\n",
        "# A) Use typecasting to turn these variables into boolean values. Print the result and the datatype of the result. \n",
        "\n",
        "one = 1\n",
        "zero = 0\n",
        "bool_true = True\n",
        "bool_false = False\n",
        "\n",
        "a_one = bool(one)\n",
        "a_zero = bool(zero)\n",
        "bool_true = True\n",
        "bool_false = False\n",
        "\n",
        "\n",
        "\n",
        "print(a_one)\n",
        "print(type(a_one))\n",
        "\n",
        "\n",
        "print(a_zero)\n",
        "print(type(a_zero))\n",
        "\n",
        "\n",
        "\n",
        "print(bool_true)\n",
        "print(type(bool_true))\n",
        "\n",
        "\n",
        "print(bool_false)\n",
        "print(type(bool_false))\n",
        "\n",
        "\n",
        "\n",
        "# B) Use typecasting to turn the latest values for variables 'one' and 'zero' back into integers. Print the result and the datatype of the result.\n",
        "\n",
        "\n",
        "\n",
        "# C) Use typecasting to turn the latest values for variables 'bool_true' and 'bool_false' back into boolean values. Print the result and the datatype of the result.\n",
        "\n",
        "\n",
        "\n",
        "\n"
      ],
      "execution_count": 0,
      "outputs": [
        {
          "output_type": "stream",
          "text": [
            "True\n",
            "<class 'bool'>\n",
            "False\n",
            "<class 'bool'>\n",
            "True\n",
            "<class 'bool'>\n",
            "False\n",
            "<class 'bool'>\n"
          ],
          "name": "stdout"
        }
      ]
    },
    {
      "cell_type": "markdown",
      "metadata": {
        "id": "_LFCOyL6FZhu",
        "colab_type": "text"
      },
      "source": [
        "\n",
        "\n",
        "## OPERATORS\n",
        "\n",
        "### P1.PY\n",
        "\n",
        "\n"
      ]
    },
    {
      "cell_type": "code",
      "metadata": {
        "id": "UeR9cS7VFZhw",
        "colab_type": "code",
        "outputId": "b40a4a54-002b-46ad-9637-ba7bb9b4dd8b",
        "colab": {
          "base_uri": "https://localhost:8080/",
          "height": 230
        }
      },
      "source": [
        "\"\"\"\n",
        "Integer & Float Operators\n",
        "\"\"\"\n",
        "\n",
        "# Complete the specified math operations. Do the next operation on the result from the previous operation.\n",
        "\n",
        "orig_var = 100\n",
        "\n",
        "# Add 50\n",
        "\n",
        "origin_var += 50\n",
        "print(origin_var)\n",
        "\n",
        "#150\n",
        "# Subtract 90\n",
        "origin_var -= 90 #60\n",
        "\n",
        "# Multiply 10\n",
        "\n",
        "origin_var *= 10 #600\n",
        "\n",
        "# Divide 150\n",
        "\n",
        "origin_var /150 #4\n",
        "\n",
        "# Modulus 3\n",
        "origin_var %= 3\n",
        "\n",
        "print (origin_var)\n",
        "\n",
        "\n"
      ],
      "execution_count": 0,
      "outputs": [
        {
          "output_type": "error",
          "ename": "NameError",
          "evalue": "ignored",
          "traceback": [
            "\u001b[0;31m---------------------------------------------------------------------------\u001b[0m",
            "\u001b[0;31mNameError\u001b[0m                                 Traceback (most recent call last)",
            "\u001b[0;32m<ipython-input-68-44d94fdd7478>\u001b[0m in \u001b[0;36m<module>\u001b[0;34m()\u001b[0m\n\u001b[1;32m      9\u001b[0m \u001b[0;31m# Add 50\u001b[0m\u001b[0;34m\u001b[0m\u001b[0;34m\u001b[0m\u001b[0;34m\u001b[0m\u001b[0m\n\u001b[1;32m     10\u001b[0m \u001b[0;34m\u001b[0m\u001b[0m\n\u001b[0;32m---> 11\u001b[0;31m \u001b[0morigin_var\u001b[0m \u001b[0;34m+=\u001b[0m \u001b[0;36m50\u001b[0m\u001b[0;34m\u001b[0m\u001b[0;34m\u001b[0m\u001b[0m\n\u001b[0m\u001b[1;32m     12\u001b[0m \u001b[0mprint\u001b[0m\u001b[0;34m(\u001b[0m\u001b[0morigin_var\u001b[0m\u001b[0;34m)\u001b[0m\u001b[0;34m\u001b[0m\u001b[0;34m\u001b[0m\u001b[0m\n\u001b[1;32m     13\u001b[0m \u001b[0;34m\u001b[0m\u001b[0m\n",
            "\u001b[0;31mNameError\u001b[0m: name 'origin_var' is not defined"
          ]
        }
      ]
    },
    {
      "cell_type": "markdown",
      "metadata": {
        "id": "t0N317pdFZhy",
        "colab_type": "text"
      },
      "source": [
        "\n",
        "\n",
        "### P2.PY\n",
        "\n",
        "\n"
      ]
    },
    {
      "cell_type": "code",
      "metadata": {
        "id": "RSKA6YK7FZhz",
        "colab_type": "code",
        "outputId": "a1ea6710-ee34-440e-ad95-8ad4a948a187",
        "colab": {
          "base_uri": "https://localhost:8080/",
          "height": 34
        }
      },
      "source": [
        "\"\"\"\n",
        "String Operators\n",
        "\"\"\"\n",
        "\n",
        "# Create two variables, each of which is half of a compound sentence. Do NOT add any punctuation up front. Add the two variables together, and print the result.\n",
        "## Example compound sentence: \"I'll go to the beach today, and I'll go snorkeling.\" \n",
        "\n",
        "\n",
        "\n",
        "one = \"I am going to have a sandwich\"\n",
        "two = \" and I am going to have a bowl of soup\"\n",
        "\n",
        "compound = one + two\n",
        "\n",
        "print(compound)"
      ],
      "execution_count": 0,
      "outputs": [
        {
          "output_type": "stream",
          "text": [
            "I am going to have a sandwich and I am going to have a bowl of soup\n"
          ],
          "name": "stdout"
        }
      ]
    },
    {
      "cell_type": "markdown",
      "metadata": {
        "id": "9BteGclQFZh1",
        "colab_type": "text"
      },
      "source": [
        "\n",
        "\n",
        "### P3.PY\n",
        "\n",
        "\n"
      ]
    },
    {
      "cell_type": "code",
      "metadata": {
        "id": "El5Y3o5yFZh2",
        "colab_type": "code",
        "colab": {}
      },
      "source": [
        "\"\"\"\n",
        "Addition I - Numbers & Strings\n",
        "\"\"\"\n",
        "\n",
        "# Add the below sets of variables together.\n",
        "\n",
        "# A)\n",
        "a = 0\n",
        "b = 2\n",
        "\n",
        "\n",
        "\n",
        "\n",
        "\n",
        "# B)\n",
        "c = '0'\n",
        "d = '2'\n",
        "\n",
        "\n",
        "\n",
        "# C)\n",
        "e = \"0\"\n",
        "f = 2"
      ],
      "execution_count": 0,
      "outputs": []
    },
    {
      "cell_type": "markdown",
      "metadata": {
        "id": "i6g5GUlEFZh4",
        "colab_type": "text"
      },
      "source": [
        "\n",
        "\n",
        "### P4.PY\n",
        "\n",
        "\n"
      ]
    },
    {
      "cell_type": "code",
      "metadata": {
        "id": "jiqwiffLFZh4",
        "colab_type": "code",
        "colab": {}
      },
      "source": [
        "\"\"\"\n",
        "Addition II - Booleans\n",
        "\"\"\"\n",
        "\n",
        "# Add the below sets of variables together.\n",
        "\n",
        "# A)\n",
        "a = True\n",
        "b = True\n",
        "\n",
        "\n",
        "\n",
        "# B)\n",
        "c = False\n",
        "d = False\n",
        "\n",
        "\n",
        "\n",
        "# C)\n",
        "e = True\n",
        "f = False"
      ],
      "execution_count": 0,
      "outputs": []
    },
    {
      "cell_type": "markdown",
      "metadata": {
        "id": "Qg9Ylu9CFZh6",
        "colab_type": "text"
      },
      "source": [
        "\n"
      ]
    }
  ]
}